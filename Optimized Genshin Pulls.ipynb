{
 "cells": [
  {
   "cell_type": "code",
   "execution_count": 41,
   "metadata": {},
   "outputs": [],
   "source": [
    "import pandas as pd\n",
    "import numpy as np\n",
    "import matplotlib.pyplot as plt"
   ]
  },
  {
   "cell_type": "markdown",
   "metadata": {},
   "source": [
    "# Data\n",
    "\n",
    "The data sets are already standardized with the `data/clean01.py` and `data/clean02.py` scripts so\n",
    "whichever operation we can do on one data set, we can do on the other.\n",
    "\n",
    "Genshin Impact, being the wonderful game that it is, has decided that it is going to have three types\n",
    "of banners players can pull from. Thus, I am going to analyze them separately because *I do be eager\n",
    "like that*.\n",
    "\n",
    "## Data Format\n",
    "\n",
    "I am going to skip the format of the original data set because it is irrelevant to this notebook.\n",
    "\n",
    "The rows of the data sets are as following:\n",
    "- **Rarity**: how many stars the character/weapon is classified as\n",
    "- **Date**: date of the pull\n",
    "- **Time**: time of the pull\n",
    "- **Banner**: type of banner, described as following:\n",
    "  - *200*: Permanent banner, always available to players\n",
    "  - *301* and *400*: Limited character banner, changes every now and then\n",
    "  - *302*: Limited weapon banner, changes every now and then\n",
    "- **Type**: drop type, either character or weapon\n",
    "  - This attribute might interfere with our model so it might be dropped later on"
   ]
  },
  {
   "cell_type": "code",
   "execution_count": 42,
   "metadata": {},
   "outputs": [
    {
     "data": {
      "text/plain": [
       "(704488, 5)"
      ]
     },
     "execution_count": 42,
     "metadata": {},
     "output_type": "execute_result"
    }
   ],
   "source": [
    "data_set01 = pd.read_csv(\"data/data01.csv\")\n",
    "data_set02 = pd.read_csv(\"data/data02.csv\")\n",
    "full_df = pd.concat([data_set01, data_set02])\n",
    "full_df.shape"
   ]
  },
  {
   "cell_type": "markdown",
   "metadata": {},
   "source": [
    "# Permanent Banner"
   ]
  },
  {
   "cell_type": "code",
   "execution_count": 43,
   "metadata": {},
   "outputs": [],
   "source": [
    "perm_banner = full_df[full_df.Banner == 200]"
   ]
  },
  {
   "cell_type": "markdown",
   "metadata": {},
   "source": [
    "# Character Banner"
   ]
  },
  {
   "cell_type": "code",
   "execution_count": 44,
   "metadata": {},
   "outputs": [],
   "source": [
    "char_banner = pd.concat([full_df[full_df.Banner == 301], full_df[full_df.Banner == 400]])"
   ]
  },
  {
   "cell_type": "markdown",
   "metadata": {},
   "source": [
    "# Weapon Banner"
   ]
  },
  {
   "cell_type": "code",
   "execution_count": 45,
   "metadata": {},
   "outputs": [],
   "source": [
    "weapon_banner = full_df[full_df.Banner == 302]"
   ]
  }
 ],
 "metadata": {
  "kernelspec": {
   "display_name": "Python 3.10.8 64-bit",
   "language": "python",
   "name": "python3"
  },
  "language_info": {
   "codemirror_mode": {
    "name": "ipython",
    "version": 3
   },
   "file_extension": ".py",
   "mimetype": "text/x-python",
   "name": "python",
   "nbconvert_exporter": "python",
   "pygments_lexer": "ipython3",
   "version": "3.10.8"
  },
  "orig_nbformat": 4,
  "vscode": {
   "interpreter": {
    "hash": "aee8b7b246df8f9039afb4144a1f6fd8d2ca17a180786b69acc140d282b71a49"
   }
  }
 },
 "nbformat": 4,
 "nbformat_minor": 2
}
